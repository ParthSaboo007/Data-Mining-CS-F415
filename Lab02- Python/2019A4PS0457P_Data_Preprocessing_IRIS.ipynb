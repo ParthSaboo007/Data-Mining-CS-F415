{
  "cells": [
    {
      "cell_type": "code",
      "execution_count": null,
      "id": "887d6522",
      "metadata": {
        "id": "887d6522"
      },
      "outputs": [],
      "source": [
        "import pandas as pd\n",
        "import numpy as np\n",
        "import matplotlib.pyplot as plt"
      ]
    },
    {
      "cell_type": "code",
      "execution_count": null,
      "id": "3b723a2d",
      "metadata": {
        "id": "3b723a2d"
      },
      "outputs": [],
      "source": [
        "df = pd.read_csv('iris_dataset.csv',header = None)\n"
      ]
    },
    {
      "cell_type": "code",
      "execution_count": null,
      "id": "105900d0",
      "metadata": {
        "id": "105900d0",
        "outputId": "fb4378b2-1ee5-4a90-b0b1-d63a10a8416a"
      },
      "outputs": [
        {
          "data": {
            "text/html": [
              "<div>\n",
              "<style scoped>\n",
              "    .dataframe tbody tr th:only-of-type {\n",
              "        vertical-align: middle;\n",
              "    }\n",
              "\n",
              "    .dataframe tbody tr th {\n",
              "        vertical-align: top;\n",
              "    }\n",
              "\n",
              "    .dataframe thead th {\n",
              "        text-align: right;\n",
              "    }\n",
              "</style>\n",
              "<table border=\"1\" class=\"dataframe\">\n",
              "  <thead>\n",
              "    <tr style=\"text-align: right;\">\n",
              "      <th></th>\n",
              "      <th>0</th>\n",
              "      <th>1</th>\n",
              "      <th>2</th>\n",
              "      <th>3</th>\n",
              "      <th>4</th>\n",
              "    </tr>\n",
              "  </thead>\n",
              "  <tbody>\n",
              "    <tr>\n",
              "      <th>0</th>\n",
              "      <td>5.1</td>\n",
              "      <td>3.5</td>\n",
              "      <td>1.4</td>\n",
              "      <td>0.2</td>\n",
              "      <td>Iris-setosa</td>\n",
              "    </tr>\n",
              "    <tr>\n",
              "      <th>1</th>\n",
              "      <td>4.9</td>\n",
              "      <td>3.0</td>\n",
              "      <td>1.4</td>\n",
              "      <td>0.2</td>\n",
              "      <td>Iris-setosa</td>\n",
              "    </tr>\n",
              "    <tr>\n",
              "      <th>2</th>\n",
              "      <td>4.7</td>\n",
              "      <td>3.2</td>\n",
              "      <td>1.3</td>\n",
              "      <td>0.2</td>\n",
              "      <td>Iris-setosa</td>\n",
              "    </tr>\n",
              "    <tr>\n",
              "      <th>3</th>\n",
              "      <td>4.6</td>\n",
              "      <td>3.1</td>\n",
              "      <td>1.5</td>\n",
              "      <td>0.2</td>\n",
              "      <td>Iris-setosa</td>\n",
              "    </tr>\n",
              "    <tr>\n",
              "      <th>4</th>\n",
              "      <td>5.0</td>\n",
              "      <td>3.6</td>\n",
              "      <td>1.4</td>\n",
              "      <td>0.2</td>\n",
              "      <td>Iris-setosa</td>\n",
              "    </tr>\n",
              "    <tr>\n",
              "      <th>...</th>\n",
              "      <td>...</td>\n",
              "      <td>...</td>\n",
              "      <td>...</td>\n",
              "      <td>...</td>\n",
              "      <td>...</td>\n",
              "    </tr>\n",
              "    <tr>\n",
              "      <th>145</th>\n",
              "      <td>6.7</td>\n",
              "      <td>3.0</td>\n",
              "      <td>5.2</td>\n",
              "      <td>2.3</td>\n",
              "      <td>Iris-virginica</td>\n",
              "    </tr>\n",
              "    <tr>\n",
              "      <th>146</th>\n",
              "      <td>6.3</td>\n",
              "      <td>2.5</td>\n",
              "      <td>5.0</td>\n",
              "      <td>1.9</td>\n",
              "      <td>Iris-virginica</td>\n",
              "    </tr>\n",
              "    <tr>\n",
              "      <th>147</th>\n",
              "      <td>6.5</td>\n",
              "      <td>3.0</td>\n",
              "      <td>5.2</td>\n",
              "      <td>2.0</td>\n",
              "      <td>Iris-virginica</td>\n",
              "    </tr>\n",
              "    <tr>\n",
              "      <th>148</th>\n",
              "      <td>6.2</td>\n",
              "      <td>3.4</td>\n",
              "      <td>5.4</td>\n",
              "      <td>2.3</td>\n",
              "      <td>Iris-virginica</td>\n",
              "    </tr>\n",
              "    <tr>\n",
              "      <th>149</th>\n",
              "      <td>5.9</td>\n",
              "      <td>NaN</td>\n",
              "      <td>5.1</td>\n",
              "      <td>1.8</td>\n",
              "      <td>Iris-virginica</td>\n",
              "    </tr>\n",
              "  </tbody>\n",
              "</table>\n",
              "<p>150 rows × 5 columns</p>\n",
              "</div>"
            ],
            "text/plain": [
              "       0    1    2    3               4\n",
              "0    5.1  3.5  1.4  0.2     Iris-setosa\n",
              "1    4.9  3.0  1.4  0.2     Iris-setosa\n",
              "2    4.7  3.2  1.3  0.2     Iris-setosa\n",
              "3    4.6  3.1  1.5  0.2     Iris-setosa\n",
              "4    5.0  3.6  1.4  0.2     Iris-setosa\n",
              "..   ...  ...  ...  ...             ...\n",
              "145  6.7  3.0  5.2  2.3  Iris-virginica\n",
              "146  6.3  2.5  5.0  1.9  Iris-virginica\n",
              "147  6.5  3.0  5.2  2.0  Iris-virginica\n",
              "148  6.2  3.4  5.4  2.3  Iris-virginica\n",
              "149  5.9  NaN  5.1  1.8  Iris-virginica\n",
              "\n",
              "[150 rows x 5 columns]"
            ]
          },
          "execution_count": 102,
          "metadata": {},
          "output_type": "execute_result"
        }
      ],
      "source": [
        "df2 = pd.read_csv('iris_dataset.csv',header = None)\n",
        "df2"
      ]
    },
    {
      "cell_type": "markdown",
      "id": "4195222c",
      "metadata": {
        "id": "4195222c"
      },
      "source": [
        "## Displaying first 20 cells"
      ]
    },
    {
      "cell_type": "code",
      "execution_count": null,
      "id": "6f605e78",
      "metadata": {
        "id": "6f605e78",
        "outputId": "b4b68343-d5e2-4916-e2cd-1bc1f26fbcfa"
      },
      "outputs": [
        {
          "data": {
            "text/html": [
              "<div>\n",
              "<style scoped>\n",
              "    .dataframe tbody tr th:only-of-type {\n",
              "        vertical-align: middle;\n",
              "    }\n",
              "\n",
              "    .dataframe tbody tr th {\n",
              "        vertical-align: top;\n",
              "    }\n",
              "\n",
              "    .dataframe thead th {\n",
              "        text-align: right;\n",
              "    }\n",
              "</style>\n",
              "<table border=\"1\" class=\"dataframe\">\n",
              "  <thead>\n",
              "    <tr style=\"text-align: right;\">\n",
              "      <th></th>\n",
              "      <th>0</th>\n",
              "      <th>1</th>\n",
              "      <th>2</th>\n",
              "      <th>3</th>\n",
              "      <th>4</th>\n",
              "    </tr>\n",
              "  </thead>\n",
              "  <tbody>\n",
              "    <tr>\n",
              "      <th>0</th>\n",
              "      <td>5.1</td>\n",
              "      <td>3.5</td>\n",
              "      <td>1.4</td>\n",
              "      <td>0.2</td>\n",
              "      <td>Iris-setosa</td>\n",
              "    </tr>\n",
              "    <tr>\n",
              "      <th>1</th>\n",
              "      <td>4.9</td>\n",
              "      <td>3.0</td>\n",
              "      <td>1.4</td>\n",
              "      <td>0.2</td>\n",
              "      <td>Iris-setosa</td>\n",
              "    </tr>\n",
              "    <tr>\n",
              "      <th>2</th>\n",
              "      <td>4.7</td>\n",
              "      <td>3.2</td>\n",
              "      <td>1.3</td>\n",
              "      <td>0.2</td>\n",
              "      <td>Iris-setosa</td>\n",
              "    </tr>\n",
              "    <tr>\n",
              "      <th>3</th>\n",
              "      <td>4.6</td>\n",
              "      <td>3.1</td>\n",
              "      <td>1.5</td>\n",
              "      <td>0.2</td>\n",
              "      <td>Iris-setosa</td>\n",
              "    </tr>\n",
              "    <tr>\n",
              "      <th>4</th>\n",
              "      <td>5.0</td>\n",
              "      <td>3.6</td>\n",
              "      <td>1.4</td>\n",
              "      <td>0.2</td>\n",
              "      <td>Iris-setosa</td>\n",
              "    </tr>\n",
              "    <tr>\n",
              "      <th>5</th>\n",
              "      <td>5.4</td>\n",
              "      <td>3.9</td>\n",
              "      <td>1.7</td>\n",
              "      <td>0.4</td>\n",
              "      <td>Iris-setosa</td>\n",
              "    </tr>\n",
              "    <tr>\n",
              "      <th>6</th>\n",
              "      <td>4.6</td>\n",
              "      <td>3.4</td>\n",
              "      <td>1.4</td>\n",
              "      <td>0.3</td>\n",
              "      <td>Iris-setosa</td>\n",
              "    </tr>\n",
              "    <tr>\n",
              "      <th>7</th>\n",
              "      <td>5.0</td>\n",
              "      <td>3.4</td>\n",
              "      <td>10.0</td>\n",
              "      <td>0.2</td>\n",
              "      <td>Iris-setosa</td>\n",
              "    </tr>\n",
              "    <tr>\n",
              "      <th>8</th>\n",
              "      <td>4.4</td>\n",
              "      <td>2.9</td>\n",
              "      <td>1.4</td>\n",
              "      <td>0.2</td>\n",
              "      <td>Iris-setosa</td>\n",
              "    </tr>\n",
              "    <tr>\n",
              "      <th>9</th>\n",
              "      <td>4.9</td>\n",
              "      <td>3.1</td>\n",
              "      <td>1.5</td>\n",
              "      <td>0.1</td>\n",
              "      <td>Iris-setosa</td>\n",
              "    </tr>\n",
              "    <tr>\n",
              "      <th>10</th>\n",
              "      <td>5.4</td>\n",
              "      <td>3.7</td>\n",
              "      <td>1.5</td>\n",
              "      <td>0.2</td>\n",
              "      <td>Iris-setosa</td>\n",
              "    </tr>\n",
              "    <tr>\n",
              "      <th>11</th>\n",
              "      <td>4.8</td>\n",
              "      <td>3.4</td>\n",
              "      <td>1.6</td>\n",
              "      <td>0.2</td>\n",
              "      <td>Iris-setosa</td>\n",
              "    </tr>\n",
              "    <tr>\n",
              "      <th>12</th>\n",
              "      <td>4.8</td>\n",
              "      <td>3.0</td>\n",
              "      <td>1.4</td>\n",
              "      <td>0.1</td>\n",
              "      <td>Iris-setosa</td>\n",
              "    </tr>\n",
              "    <tr>\n",
              "      <th>13</th>\n",
              "      <td>4.3</td>\n",
              "      <td>3.0</td>\n",
              "      <td>1.1</td>\n",
              "      <td>0.1</td>\n",
              "      <td>Iris-setosa</td>\n",
              "    </tr>\n",
              "    <tr>\n",
              "      <th>14</th>\n",
              "      <td>5.8</td>\n",
              "      <td>4.0</td>\n",
              "      <td>1.2</td>\n",
              "      <td>0.2</td>\n",
              "      <td>Iris-setosa</td>\n",
              "    </tr>\n",
              "    <tr>\n",
              "      <th>16</th>\n",
              "      <td>5.4</td>\n",
              "      <td>3.9</td>\n",
              "      <td>1.3</td>\n",
              "      <td>0.4</td>\n",
              "      <td>Iris-setosa</td>\n",
              "    </tr>\n",
              "    <tr>\n",
              "      <th>17</th>\n",
              "      <td>5.1</td>\n",
              "      <td>3.5</td>\n",
              "      <td>1.4</td>\n",
              "      <td>0.3</td>\n",
              "      <td>Iris-setosa</td>\n",
              "    </tr>\n",
              "    <tr>\n",
              "      <th>18</th>\n",
              "      <td>5.7</td>\n",
              "      <td>3.8</td>\n",
              "      <td>1.7</td>\n",
              "      <td>0.3</td>\n",
              "      <td>Iris-setosa</td>\n",
              "    </tr>\n",
              "    <tr>\n",
              "      <th>19</th>\n",
              "      <td>5.1</td>\n",
              "      <td>3.8</td>\n",
              "      <td>1.5</td>\n",
              "      <td>0.3</td>\n",
              "      <td>Iris-setosa</td>\n",
              "    </tr>\n",
              "    <tr>\n",
              "      <th>20</th>\n",
              "      <td>5.4</td>\n",
              "      <td>3.4</td>\n",
              "      <td>1.7</td>\n",
              "      <td>0.2</td>\n",
              "      <td>Iris-setosa</td>\n",
              "    </tr>\n",
              "  </tbody>\n",
              "</table>\n",
              "</div>"
            ],
            "text/plain": [
              "      0    1     2    3            4\n",
              "0   5.1  3.5   1.4  0.2  Iris-setosa\n",
              "1   4.9  3.0   1.4  0.2  Iris-setosa\n",
              "2   4.7  3.2   1.3  0.2  Iris-setosa\n",
              "3   4.6  3.1   1.5  0.2  Iris-setosa\n",
              "4   5.0  3.6   1.4  0.2  Iris-setosa\n",
              "5   5.4  3.9   1.7  0.4  Iris-setosa\n",
              "6   4.6  3.4   1.4  0.3  Iris-setosa\n",
              "7   5.0  3.4  10.0  0.2  Iris-setosa\n",
              "8   4.4  2.9   1.4  0.2  Iris-setosa\n",
              "9   4.9  3.1   1.5  0.1  Iris-setosa\n",
              "10  5.4  3.7   1.5  0.2  Iris-setosa\n",
              "11  4.8  3.4   1.6  0.2  Iris-setosa\n",
              "12  4.8  3.0   1.4  0.1  Iris-setosa\n",
              "13  4.3  3.0   1.1  0.1  Iris-setosa\n",
              "14  5.8  4.0   1.2  0.2  Iris-setosa\n",
              "16  5.4  3.9   1.3  0.4  Iris-setosa\n",
              "17  5.1  3.5   1.4  0.3  Iris-setosa\n",
              "18  5.7  3.8   1.7  0.3  Iris-setosa\n",
              "19  5.1  3.8   1.5  0.3  Iris-setosa\n",
              "20  5.4  3.4   1.7  0.2  Iris-setosa"
            ]
          },
          "execution_count": 247,
          "metadata": {},
          "output_type": "execute_result"
        }
      ],
      "source": [
        "df[:20]"
      ]
    },
    {
      "cell_type": "code",
      "execution_count": null,
      "id": "cd789f90",
      "metadata": {
        "id": "cd789f90",
        "outputId": "22f03346-e02f-4636-b95e-64b69c6859d1"
      },
      "outputs": [
        {
          "data": {
            "text/plain": [
              "0    True\n",
              "1    True\n",
              "2    True\n",
              "3    True\n",
              "4    True\n",
              "dtype: bool"
            ]
          },
          "execution_count": 21,
          "metadata": {},
          "output_type": "execute_result"
        }
      ],
      "source": [
        "(pd.isnull(df)).sum() > 0"
      ]
    },
    {
      "cell_type": "code",
      "execution_count": null,
      "id": "e56633a7",
      "metadata": {
        "id": "e56633a7",
        "outputId": "047f2c55-b4c0-445e-d8c0-4cdb187b6cd3"
      },
      "outputs": [
        {
          "data": {
            "text/plain": [
              "Index([0, 1, 2, 3, 4, '1'], dtype='object')"
            ]
          },
          "execution_count": 49,
          "metadata": {},
          "output_type": "execute_result"
        }
      ],
      "source": [
        "df.columns"
      ]
    },
    {
      "cell_type": "code",
      "execution_count": null,
      "id": "1ec582a0",
      "metadata": {
        "id": "1ec582a0",
        "outputId": "53b6a7aa-eca7-45f0-d31e-7903d80d92cf"
      },
      "outputs": [
        {
          "data": {
            "text/plain": [
              "0    3\n",
              "1    3\n",
              "2    3\n",
              "3    2\n",
              "4    3\n",
              "dtype: int64"
            ]
          },
          "execution_count": 39,
          "metadata": {},
          "output_type": "execute_result"
        }
      ],
      "source": [
        "df.isnull().sum()"
      ]
    },
    {
      "cell_type": "markdown",
      "id": "e5b69627",
      "metadata": {
        "id": "e5b69627"
      },
      "source": [
        "## rows containing missing values"
      ]
    },
    {
      "cell_type": "code",
      "execution_count": null,
      "id": "dfddd0e6",
      "metadata": {
        "id": "dfddd0e6",
        "outputId": "cba961b1-4705-48b2-fd35-e2a01d8a3e71"
      },
      "outputs": [
        {
          "data": {
            "text/plain": [
              "0    0\n",
              "1    0\n",
              "2    0\n",
              "3    0\n",
              "4    0\n",
              "1    0\n",
              "dtype: int64"
            ]
          },
          "execution_count": 69,
          "metadata": {},
          "output_type": "execute_result"
        }
      ],
      "source": [
        "\n",
        "(df.where(df[2]==0)).count()"
      ]
    },
    {
      "cell_type": "code",
      "execution_count": null,
      "id": "fff01143",
      "metadata": {
        "id": "fff01143",
        "outputId": "ccab5417-296f-474a-b1af-bc681f8c879c"
      },
      "outputs": [
        {
          "data": {
            "text/html": [
              "<div>\n",
              "<style scoped>\n",
              "    .dataframe tbody tr th:only-of-type {\n",
              "        vertical-align: middle;\n",
              "    }\n",
              "\n",
              "    .dataframe tbody tr th {\n",
              "        vertical-align: top;\n",
              "    }\n",
              "\n",
              "    .dataframe thead th {\n",
              "        text-align: right;\n",
              "    }\n",
              "</style>\n",
              "<table border=\"1\" class=\"dataframe\">\n",
              "  <thead>\n",
              "    <tr style=\"text-align: right;\">\n",
              "      <th></th>\n",
              "      <th>0</th>\n",
              "      <th>1</th>\n",
              "      <th>2</th>\n",
              "      <th>3</th>\n",
              "      <th>4</th>\n",
              "    </tr>\n",
              "  </thead>\n",
              "  <tbody>\n",
              "    <tr>\n",
              "      <th>0</th>\n",
              "      <td>5.1</td>\n",
              "      <td>3.5</td>\n",
              "      <td>1.4</td>\n",
              "      <td>0.2</td>\n",
              "      <td>Iris-setosa</td>\n",
              "    </tr>\n",
              "    <tr>\n",
              "      <th>1</th>\n",
              "      <td>4.9</td>\n",
              "      <td>3.0</td>\n",
              "      <td>1.4</td>\n",
              "      <td>0.2</td>\n",
              "      <td>Iris-setosa</td>\n",
              "    </tr>\n",
              "    <tr>\n",
              "      <th>2</th>\n",
              "      <td>4.7</td>\n",
              "      <td>3.2</td>\n",
              "      <td>1.3</td>\n",
              "      <td>0.2</td>\n",
              "      <td>Iris-setosa</td>\n",
              "    </tr>\n",
              "    <tr>\n",
              "      <th>3</th>\n",
              "      <td>4.6</td>\n",
              "      <td>3.1</td>\n",
              "      <td>1.5</td>\n",
              "      <td>0.2</td>\n",
              "      <td>Iris-setosa</td>\n",
              "    </tr>\n",
              "    <tr>\n",
              "      <th>4</th>\n",
              "      <td>5.0</td>\n",
              "      <td>3.6</td>\n",
              "      <td>1.4</td>\n",
              "      <td>0.2</td>\n",
              "      <td>Iris-setosa</td>\n",
              "    </tr>\n",
              "  </tbody>\n",
              "</table>\n",
              "</div>"
            ],
            "text/plain": [
              "     0    1    2    3            4\n",
              "0  5.1  3.5  1.4  0.2  Iris-setosa\n",
              "1  4.9  3.0  1.4  0.2  Iris-setosa\n",
              "2  4.7  3.2  1.3  0.2  Iris-setosa\n",
              "3  4.6  3.1  1.5  0.2  Iris-setosa\n",
              "4  5.0  3.6  1.4  0.2  Iris-setosa"
            ]
          },
          "execution_count": 94,
          "metadata": {},
          "output_type": "execute_result"
        }
      ],
      "source": [
        "df1 = df\n",
        "df1.head()"
      ]
    },
    {
      "cell_type": "markdown",
      "id": "edfa0bb6",
      "metadata": {
        "id": "edfa0bb6"
      },
      "source": [
        "## disacarding missing values"
      ]
    },
    {
      "cell_type": "code",
      "execution_count": null,
      "id": "7daf1461",
      "metadata": {
        "id": "7daf1461",
        "outputId": "65d109bb-86e9-4014-82c2-13499b58cd7f"
      },
      "outputs": [
        {
          "data": {
            "text/plain": [
              "0    137\n",
              "1    137\n",
              "2    137\n",
              "3    137\n",
              "4    137\n",
              "dtype: int64"
            ]
          },
          "execution_count": 98,
          "metadata": {},
          "output_type": "execute_result"
        }
      ],
      "source": [
        "\n",
        "df1.dropna(inplace=True)\n",
        "df1.count()"
      ]
    },
    {
      "cell_type": "markdown",
      "id": "a9ea5168",
      "metadata": {
        "id": "a9ea5168"
      },
      "source": [
        "# "
      ]
    },
    {
      "cell_type": "code",
      "execution_count": null,
      "id": "2943b0b6",
      "metadata": {
        "id": "2943b0b6",
        "outputId": "cec14526-afb6-4cb5-a53d-13cd8c3ed7bc"
      },
      "outputs": [
        {
          "data": {
            "text/html": [
              "<div>\n",
              "<style scoped>\n",
              "    .dataframe tbody tr th:only-of-type {\n",
              "        vertical-align: middle;\n",
              "    }\n",
              "\n",
              "    .dataframe tbody tr th {\n",
              "        vertical-align: top;\n",
              "    }\n",
              "\n",
              "    .dataframe thead th {\n",
              "        text-align: right;\n",
              "    }\n",
              "</style>\n",
              "<table border=\"1\" class=\"dataframe\">\n",
              "  <thead>\n",
              "    <tr style=\"text-align: right;\">\n",
              "      <th></th>\n",
              "      <th>0</th>\n",
              "      <th>1</th>\n",
              "      <th>2</th>\n",
              "      <th>3</th>\n",
              "      <th>4</th>\n",
              "    </tr>\n",
              "  </thead>\n",
              "  <tbody>\n",
              "    <tr>\n",
              "      <th>0</th>\n",
              "      <td>5.1</td>\n",
              "      <td>3.5</td>\n",
              "      <td>1.4</td>\n",
              "      <td>0.2</td>\n",
              "      <td>Iris-setosa</td>\n",
              "    </tr>\n",
              "    <tr>\n",
              "      <th>1</th>\n",
              "      <td>4.9</td>\n",
              "      <td>3.0</td>\n",
              "      <td>1.4</td>\n",
              "      <td>0.2</td>\n",
              "      <td>Iris-setosa</td>\n",
              "    </tr>\n",
              "    <tr>\n",
              "      <th>2</th>\n",
              "      <td>4.7</td>\n",
              "      <td>3.2</td>\n",
              "      <td>1.3</td>\n",
              "      <td>0.2</td>\n",
              "      <td>Iris-setosa</td>\n",
              "    </tr>\n",
              "    <tr>\n",
              "      <th>3</th>\n",
              "      <td>4.6</td>\n",
              "      <td>3.1</td>\n",
              "      <td>1.5</td>\n",
              "      <td>0.2</td>\n",
              "      <td>Iris-setosa</td>\n",
              "    </tr>\n",
              "    <tr>\n",
              "      <th>4</th>\n",
              "      <td>5.0</td>\n",
              "      <td>3.6</td>\n",
              "      <td>1.4</td>\n",
              "      <td>0.2</td>\n",
              "      <td>Iris-setosa</td>\n",
              "    </tr>\n",
              "    <tr>\n",
              "      <th>...</th>\n",
              "      <td>...</td>\n",
              "      <td>...</td>\n",
              "      <td>...</td>\n",
              "      <td>...</td>\n",
              "      <td>...</td>\n",
              "    </tr>\n",
              "    <tr>\n",
              "      <th>144</th>\n",
              "      <td>6.7</td>\n",
              "      <td>3.3</td>\n",
              "      <td>5.7</td>\n",
              "      <td>2.5</td>\n",
              "      <td>Iris-virginica</td>\n",
              "    </tr>\n",
              "    <tr>\n",
              "      <th>145</th>\n",
              "      <td>6.7</td>\n",
              "      <td>3.0</td>\n",
              "      <td>5.2</td>\n",
              "      <td>2.3</td>\n",
              "      <td>Iris-virginica</td>\n",
              "    </tr>\n",
              "    <tr>\n",
              "      <th>146</th>\n",
              "      <td>6.3</td>\n",
              "      <td>2.5</td>\n",
              "      <td>5.0</td>\n",
              "      <td>1.9</td>\n",
              "      <td>Iris-virginica</td>\n",
              "    </tr>\n",
              "    <tr>\n",
              "      <th>147</th>\n",
              "      <td>6.5</td>\n",
              "      <td>3.0</td>\n",
              "      <td>5.2</td>\n",
              "      <td>2.0</td>\n",
              "      <td>Iris-virginica</td>\n",
              "    </tr>\n",
              "    <tr>\n",
              "      <th>148</th>\n",
              "      <td>6.2</td>\n",
              "      <td>3.4</td>\n",
              "      <td>5.4</td>\n",
              "      <td>2.3</td>\n",
              "      <td>Iris-virginica</td>\n",
              "    </tr>\n",
              "  </tbody>\n",
              "</table>\n",
              "<p>137 rows × 5 columns</p>\n",
              "</div>"
            ],
            "text/plain": [
              "       0    1    2    3               4\n",
              "0    5.1  3.5  1.4  0.2     Iris-setosa\n",
              "1    4.9  3.0  1.4  0.2     Iris-setosa\n",
              "2    4.7  3.2  1.3  0.2     Iris-setosa\n",
              "3    4.6  3.1  1.5  0.2     Iris-setosa\n",
              "4    5.0  3.6  1.4  0.2     Iris-setosa\n",
              "..   ...  ...  ...  ...             ...\n",
              "144  6.7  3.3  5.7  2.5  Iris-virginica\n",
              "145  6.7  3.0  5.2  2.3  Iris-virginica\n",
              "146  6.3  2.5  5.0  1.9  Iris-virginica\n",
              "147  6.5  3.0  5.2  2.0  Iris-virginica\n",
              "148  6.2  3.4  5.4  2.3  Iris-virginica\n",
              "\n",
              "[137 rows x 5 columns]"
            ]
          },
          "execution_count": 99,
          "metadata": {},
          "output_type": "execute_result"
        }
      ],
      "source": [
        "df"
      ]
    },
    {
      "cell_type": "code",
      "execution_count": null,
      "id": "2f5c5c5e",
      "metadata": {
        "id": "2f5c5c5e",
        "outputId": "f4eaeb91-39da-4bf4-8044-badfe49ae6f6"
      },
      "outputs": [
        {
          "data": {
            "text/html": [
              "<div>\n",
              "<style scoped>\n",
              "    .dataframe tbody tr th:only-of-type {\n",
              "        vertical-align: middle;\n",
              "    }\n",
              "\n",
              "    .dataframe tbody tr th {\n",
              "        vertical-align: top;\n",
              "    }\n",
              "\n",
              "    .dataframe thead th {\n",
              "        text-align: right;\n",
              "    }\n",
              "</style>\n",
              "<table border=\"1\" class=\"dataframe\">\n",
              "  <thead>\n",
              "    <tr style=\"text-align: right;\">\n",
              "      <th></th>\n",
              "      <th>0</th>\n",
              "      <th>1</th>\n",
              "      <th>2</th>\n",
              "      <th>3</th>\n",
              "    </tr>\n",
              "  </thead>\n",
              "  <tbody>\n",
              "    <tr>\n",
              "      <th>count</th>\n",
              "      <td>147.000000</td>\n",
              "      <td>147.000000</td>\n",
              "      <td>147.000000</td>\n",
              "      <td>148.000000</td>\n",
              "    </tr>\n",
              "    <tr>\n",
              "      <th>mean</th>\n",
              "      <td>5.908844</td>\n",
              "      <td>3.138776</td>\n",
              "      <td>3.836735</td>\n",
              "      <td>1.197297</td>\n",
              "    </tr>\n",
              "    <tr>\n",
              "      <th>std</th>\n",
              "      <td>1.116190</td>\n",
              "      <td>1.226111</td>\n",
              "      <td>1.821187</td>\n",
              "      <td>0.768243</td>\n",
              "    </tr>\n",
              "    <tr>\n",
              "      <th>min</th>\n",
              "      <td>4.300000</td>\n",
              "      <td>2.000000</td>\n",
              "      <td>1.000000</td>\n",
              "      <td>0.100000</td>\n",
              "    </tr>\n",
              "    <tr>\n",
              "      <th>25%</th>\n",
              "      <td>5.100000</td>\n",
              "      <td>2.800000</td>\n",
              "      <td>1.600000</td>\n",
              "      <td>0.300000</td>\n",
              "    </tr>\n",
              "    <tr>\n",
              "      <th>50%</th>\n",
              "      <td>5.800000</td>\n",
              "      <td>3.000000</td>\n",
              "      <td>4.400000</td>\n",
              "      <td>1.300000</td>\n",
              "    </tr>\n",
              "    <tr>\n",
              "      <th>75%</th>\n",
              "      <td>6.400000</td>\n",
              "      <td>3.300000</td>\n",
              "      <td>5.100000</td>\n",
              "      <td>1.800000</td>\n",
              "    </tr>\n",
              "    <tr>\n",
              "      <th>max</th>\n",
              "      <td>15.000000</td>\n",
              "      <td>17.000000</td>\n",
              "      <td>10.000000</td>\n",
              "      <td>2.500000</td>\n",
              "    </tr>\n",
              "  </tbody>\n",
              "</table>\n",
              "</div>"
            ],
            "text/plain": [
              "                0           1           2           3\n",
              "count  147.000000  147.000000  147.000000  148.000000\n",
              "mean     5.908844    3.138776    3.836735    1.197297\n",
              "std      1.116190    1.226111    1.821187    0.768243\n",
              "min      4.300000    2.000000    1.000000    0.100000\n",
              "25%      5.100000    2.800000    1.600000    0.300000\n",
              "50%      5.800000    3.000000    4.400000    1.300000\n",
              "75%      6.400000    3.300000    5.100000    1.800000\n",
              "max     15.000000   17.000000   10.000000    2.500000"
            ]
          },
          "execution_count": 113,
          "metadata": {},
          "output_type": "execute_result"
        }
      ],
      "source": [
        "df2.describe()"
      ]
    },
    {
      "cell_type": "code",
      "execution_count": null,
      "id": "3a18367b",
      "metadata": {
        "id": "3a18367b",
        "outputId": "d90c954c-6e50-4bb6-ba4e-2c395a739281"
      },
      "outputs": [
        {
          "data": {
            "image/png": "[encoded data removed]",
            "text/plain": [
              "<Figure size 432x288 with 1 Axes>"
            ]
          },
          "metadata": {
            "needs_background": "light"
          },
          "output_type": "display_data"
        }
      ],
      "source": [
        "df2.plot()\n",
        "plt.show()"
      ]
    },
    {
      "cell_type": "code",
      "execution_count": null,
      "id": "5c5c36c8",
      "metadata": {
        "id": "5c5c36c8",
        "outputId": "856458e6-cc85-449c-feb9-c484ec7dd24f"
      },
      "outputs": [
        {
          "data": {
            "text/plain": [
              "<AxesSubplot:>"
            ]
          },
          "execution_count": 133,
          "metadata": {},
          "output_type": "execute_result"
        },
        {
          "data": {
            "image/png": "[encoded data removed]",
            "text/plain": [
              "<Figure size 432x288 with 1 Axes>"
            ]
          },
          "metadata": {
            "needs_background": "light"
          },
          "output_type": "display_data"
        }
      ],
      "source": [
        "df2.plot.box()"
      ]
    },
    {
      "cell_type": "code",
      "execution_count": null,
      "id": "1df07d26",
      "metadata": {
        "id": "1df07d26",
        "outputId": "2fcc13cc-c0c6-4f3b-f4e9-fa88c388d949"
      },
      "outputs": [
        {
          "name": "stderr",
          "output_type": "stream",
          "text": [
            "C:\\Users\\USER\\AppData\\Local\\Temp/ipykernel_10592/3587575296.py:1: FutureWarning: Dropping of nuisance columns in DataFrame reductions (with 'numeric_only=None') is deprecated; in a future version this will raise TypeError.  Select only valid columns before calling the reduction.\n",
            "  df2.mean()\n"
          ]
        },
        {
          "data": {
            "text/plain": [
              "0    5.908844\n",
              "1    3.138776\n",
              "2    3.836735\n",
              "3    1.197297\n",
              "dtype: float64"
            ]
          },
          "execution_count": 117,
          "metadata": {},
          "output_type": "execute_result"
        }
      ],
      "source": [
        "df2.mean()"
      ]
    },
    {
      "cell_type": "markdown",
      "id": "131b6ae6",
      "metadata": {
        "id": "131b6ae6"
      },
      "source": [
        "## Filling missing values with mean /median /mode\n"
      ]
    },
    {
      "cell_type": "code",
      "execution_count": null,
      "id": "1d1be783",
      "metadata": {
        "id": "1d1be783"
      },
      "outputs": [],
      "source": [
        "for i in {0,1,3}:\n",
        "    m_value = df2[i].mean()\n",
        "    df2[i].fillna(value = m_value, inplace = True)\n",
        "\n",
        "# median for Attribute #2\n",
        "df2[2].fillna(value = df2[2].median(), inplace= True)\n",
        "    "
      ]
    },
    {
      "cell_type": "code",
      "execution_count": null,
      "id": "3fad8268",
      "metadata": {
        "id": "3fad8268"
      },
      "outputs": [],
      "source": []
    },
    {
      "cell_type": "markdown",
      "id": "67a27941",
      "metadata": {
        "id": "67a27941"
      },
      "source": [
        "## Creating a new Dataframe"
      ]
    },
    {
      "cell_type": "code",
      "execution_count": null,
      "id": "1c755551",
      "metadata": {
        "id": "1c755551",
        "outputId": "e543835f-dc37-4535-bbb0-e420f3d98f6b"
      },
      "outputs": [
        {
          "data": {
            "text/html": [
              "<div>\n",
              "<style scoped>\n",
              "    .dataframe tbody tr th:only-of-type {\n",
              "        vertical-align: middle;\n",
              "    }\n",
              "\n",
              "    .dataframe tbody tr th {\n",
              "        vertical-align: top;\n",
              "    }\n",
              "\n",
              "    .dataframe thead th {\n",
              "        text-align: right;\n",
              "    }\n",
              "</style>\n",
              "<table border=\"1\" class=\"dataframe\">\n",
              "  <thead>\n",
              "    <tr style=\"text-align: right;\">\n",
              "      <th></th>\n",
              "      <th>a</th>\n",
              "      <th>b</th>\n",
              "    </tr>\n",
              "  </thead>\n",
              "  <tbody>\n",
              "    <tr>\n",
              "      <th>0</th>\n",
              "      <td>0.013786</td>\n",
              "      <td>0.616498</td>\n",
              "    </tr>\n",
              "    <tr>\n",
              "      <th>1</th>\n",
              "      <td>0.022065</td>\n",
              "      <td>0.829703</td>\n",
              "    </tr>\n",
              "    <tr>\n",
              "      <th>2</th>\n",
              "      <td>0.512508</td>\n",
              "      <td>0.394386</td>\n",
              "    </tr>\n",
              "    <tr>\n",
              "      <th>3</th>\n",
              "      <td>0.748630</td>\n",
              "      <td>0.127169</td>\n",
              "    </tr>\n",
              "    <tr>\n",
              "      <th>4</th>\n",
              "      <td>0.767283</td>\n",
              "      <td>0.491910</td>\n",
              "    </tr>\n",
              "    <tr>\n",
              "      <th>5</th>\n",
              "      <td>0.748778</td>\n",
              "      <td>0.774637</td>\n",
              "    </tr>\n",
              "    <tr>\n",
              "      <th>6</th>\n",
              "      <td>0.580622</td>\n",
              "      <td>0.637314</td>\n",
              "    </tr>\n",
              "    <tr>\n",
              "      <th>7</th>\n",
              "      <td>0.908516</td>\n",
              "      <td>0.600809</td>\n",
              "    </tr>\n",
              "    <tr>\n",
              "      <th>8</th>\n",
              "      <td>0.704986</td>\n",
              "      <td>0.518853</td>\n",
              "    </tr>\n",
              "    <tr>\n",
              "      <th>9</th>\n",
              "      <td>0.341620</td>\n",
              "      <td>0.222922</td>\n",
              "    </tr>\n",
              "    <tr>\n",
              "      <th>10</th>\n",
              "      <td>0.776047</td>\n",
              "      <td>0.664110</td>\n",
              "    </tr>\n",
              "    <tr>\n",
              "      <th>11</th>\n",
              "      <td>0.109907</td>\n",
              "      <td>0.616113</td>\n",
              "    </tr>\n",
              "    <tr>\n",
              "      <th>12</th>\n",
              "      <td>0.637866</td>\n",
              "      <td>0.395732</td>\n",
              "    </tr>\n",
              "    <tr>\n",
              "      <th>13</th>\n",
              "      <td>0.429659</td>\n",
              "      <td>0.613486</td>\n",
              "    </tr>\n",
              "    <tr>\n",
              "      <th>14</th>\n",
              "      <td>0.022215</td>\n",
              "      <td>0.149201</td>\n",
              "    </tr>\n",
              "    <tr>\n",
              "      <th>15</th>\n",
              "      <td>0.941016</td>\n",
              "      <td>0.986432</td>\n",
              "    </tr>\n",
              "    <tr>\n",
              "      <th>16</th>\n",
              "      <td>0.380999</td>\n",
              "      <td>0.898508</td>\n",
              "    </tr>\n",
              "    <tr>\n",
              "      <th>17</th>\n",
              "      <td>0.249174</td>\n",
              "      <td>0.504919</td>\n",
              "    </tr>\n",
              "    <tr>\n",
              "      <th>18</th>\n",
              "      <td>0.019233</td>\n",
              "      <td>0.013960</td>\n",
              "    </tr>\n",
              "    <tr>\n",
              "      <th>19</th>\n",
              "      <td>0.860213</td>\n",
              "      <td>0.734064</td>\n",
              "    </tr>\n",
              "  </tbody>\n",
              "</table>\n",
              "</div>"
            ],
            "text/plain": [
              "           a         b\n",
              "0   0.013786  0.616498\n",
              "1   0.022065  0.829703\n",
              "2   0.512508  0.394386\n",
              "3   0.748630  0.127169\n",
              "4   0.767283  0.491910\n",
              "5   0.748778  0.774637\n",
              "6   0.580622  0.637314\n",
              "7   0.908516  0.600809\n",
              "8   0.704986  0.518853\n",
              "9   0.341620  0.222922\n",
              "10  0.776047  0.664110\n",
              "11  0.109907  0.616113\n",
              "12  0.637866  0.395732\n",
              "13  0.429659  0.613486\n",
              "14  0.022215  0.149201\n",
              "15  0.941016  0.986432\n",
              "16  0.380999  0.898508\n",
              "17  0.249174  0.504919\n",
              "18  0.019233  0.013960\n",
              "19  0.860213  0.734064"
            ]
          },
          "execution_count": 158,
          "metadata": {},
          "output_type": "execute_result"
        }
      ],
      "source": [
        "pf1 = pd.DataFrame(np.random.rand(20,2), columns = ['a','b'])\n",
        "pf1"
      ]
    },
    {
      "cell_type": "markdown",
      "id": "b2879335",
      "metadata": {
        "id": "b2879335"
      },
      "source": [
        "## Class-wise distribution in CLASS attribute of IRIS"
      ]
    },
    {
      "cell_type": "code",
      "execution_count": null,
      "id": "b8dd673b",
      "metadata": {
        "id": "b8dd673b",
        "outputId": "28d765ee-a5b9-4d8d-92f2-e44b0029d772"
      },
      "outputs": [
        {
          "data": {
            "text/plain": [
              "Iris-versicolor    46\n",
              "Iris-virginica     46\n",
              "Iris-setosa        45\n",
              "Name: 4, dtype: int64"
            ]
          },
          "execution_count": 225,
          "metadata": {},
          "output_type": "execute_result"
        }
      ],
      "source": [
        "df[4].value_counts()"
      ]
    },
    {
      "cell_type": "code",
      "execution_count": null,
      "id": "1e8e5693",
      "metadata": {
        "id": "1e8e5693",
        "outputId": "9aa20d22-781a-4ed3-a1b6-619818b12844"
      },
      "outputs": [
        {
          "data": {
            "text/plain": [
              "4\n",
              "Iris-setosa        45\n",
              "Iris-versicolor    46\n",
              "Iris-virginica     46\n",
              "dtype: int64"
            ]
          },
          "execution_count": 232,
          "metadata": {},
          "output_type": "execute_result"
        }
      ],
      "source": [
        "df.groupby(4).size()"
      ]
    },
    {
      "cell_type": "code",
      "execution_count": null,
      "id": "84a42af5",
      "metadata": {
        "id": "84a42af5",
        "outputId": "6fcecad2-7b01-4a40-b59f-dc4eeb6c0daf"
      },
      "outputs": [
        {
          "data": {
            "text/plain": [
              "<AxesSubplot:xlabel='4'>"
            ]
          },
          "execution_count": 241,
          "metadata": {},
          "output_type": "execute_result"
        },
        {
          "data": {
            "image/png": "[encoded data removed]",
            "text/plain": [
              "<Figure size 432x288 with 1 Axes>"
            ]
          },
          "metadata": {
            "needs_background": "light"
          },
          "output_type": "display_data"
        }
      ],
      "source": [
        "(df.groupby(4).size()).plot(kind='bar')"
      ]
    },
    {
      "cell_type": "markdown",
      "id": "bdea4bc2",
      "metadata": {
        "id": "bdea4bc2"
      },
      "source": [
        "## Random sampling with replacement"
      ]
    },
    {
      "cell_type": "code",
      "execution_count": null,
      "id": "e26fcfd7",
      "metadata": {
        "id": "e26fcfd7",
        "outputId": "a74efbd2-9db5-45a6-a3b4-9255a412ad78"
      },
      "outputs": [
        {
          "data": {
            "text/html": [
              "<div>\n",
              "<style scoped>\n",
              "    .dataframe tbody tr th:only-of-type {\n",
              "        vertical-align: middle;\n",
              "    }\n",
              "\n",
              "    .dataframe tbody tr th {\n",
              "        vertical-align: top;\n",
              "    }\n",
              "\n",
              "    .dataframe thead th {\n",
              "        text-align: right;\n",
              "    }\n",
              "</style>\n",
              "<table border=\"1\" class=\"dataframe\">\n",
              "  <thead>\n",
              "    <tr style=\"text-align: right;\">\n",
              "      <th></th>\n",
              "      <th>a</th>\n",
              "      <th>b</th>\n",
              "    </tr>\n",
              "  </thead>\n",
              "  <tbody>\n",
              "    <tr>\n",
              "      <th>11</th>\n",
              "      <td>0.109907</td>\n",
              "      <td>0.616113</td>\n",
              "    </tr>\n",
              "    <tr>\n",
              "      <th>3</th>\n",
              "      <td>0.748630</td>\n",
              "      <td>0.127169</td>\n",
              "    </tr>\n",
              "    <tr>\n",
              "      <th>0</th>\n",
              "      <td>0.013786</td>\n",
              "      <td>0.616498</td>\n",
              "    </tr>\n",
              "    <tr>\n",
              "      <th>3</th>\n",
              "      <td>0.748630</td>\n",
              "      <td>0.127169</td>\n",
              "    </tr>\n",
              "  </tbody>\n",
              "</table>\n",
              "</div>"
            ],
            "text/plain": [
              "           a         b\n",
              "11  0.109907  0.616113\n",
              "3   0.748630  0.127169\n",
              "0   0.013786  0.616498\n",
              "3   0.748630  0.127169"
            ]
          },
          "execution_count": 166,
          "metadata": {},
          "output_type": "execute_result"
        }
      ],
      "source": [
        "pf1.sample(frac = 0.2, replace = True, random_state = 45)\n"
      ]
    },
    {
      "cell_type": "markdown",
      "id": "90d8f843",
      "metadata": {
        "id": "90d8f843"
      },
      "source": [
        "## Random sampling w/o replacement "
      ]
    },
    {
      "cell_type": "code",
      "execution_count": null,
      "id": "0ebbe53e",
      "metadata": {
        "id": "0ebbe53e",
        "outputId": "4c38b708-0587-4fb8-ad21-39010baa41bd"
      },
      "outputs": [
        {
          "data": {
            "text/html": [
              "<div>\n",
              "<style scoped>\n",
              "    .dataframe tbody tr th:only-of-type {\n",
              "        vertical-align: middle;\n",
              "    }\n",
              "\n",
              "    .dataframe tbody tr th {\n",
              "        vertical-align: top;\n",
              "    }\n",
              "\n",
              "    .dataframe thead th {\n",
              "        text-align: right;\n",
              "    }\n",
              "</style>\n",
              "<table border=\"1\" class=\"dataframe\">\n",
              "  <thead>\n",
              "    <tr style=\"text-align: right;\">\n",
              "      <th></th>\n",
              "      <th>a</th>\n",
              "      <th>b</th>\n",
              "    </tr>\n",
              "  </thead>\n",
              "  <tbody>\n",
              "    <tr>\n",
              "      <th>12</th>\n",
              "      <td>0.637866</td>\n",
              "      <td>0.395732</td>\n",
              "    </tr>\n",
              "    <tr>\n",
              "      <th>16</th>\n",
              "      <td>0.380999</td>\n",
              "      <td>0.898508</td>\n",
              "    </tr>\n",
              "    <tr>\n",
              "      <th>19</th>\n",
              "      <td>0.860213</td>\n",
              "      <td>0.734064</td>\n",
              "    </tr>\n",
              "    <tr>\n",
              "      <th>2</th>\n",
              "      <td>0.512508</td>\n",
              "      <td>0.394386</td>\n",
              "    </tr>\n",
              "  </tbody>\n",
              "</table>\n",
              "</div>"
            ],
            "text/plain": [
              "           a         b\n",
              "12  0.637866  0.395732\n",
              "16  0.380999  0.898508\n",
              "19  0.860213  0.734064\n",
              "2   0.512508  0.394386"
            ]
          },
          "execution_count": 167,
          "metadata": {},
          "output_type": "execute_result"
        }
      ],
      "source": [
        "pf1.sample(frac = 0.2, replace = False, random_state = 45)"
      ]
    },
    {
      "cell_type": "code",
      "execution_count": null,
      "id": "e4579bac",
      "metadata": {
        "id": "e4579bac",
        "outputId": "1bc324a6-6013-4d6a-f1e5-3cd7d165f985"
      },
      "outputs": [
        {
          "data": {
            "text/html": [
              "<div>\n",
              "<style scoped>\n",
              "    .dataframe tbody tr th:only-of-type {\n",
              "        vertical-align: middle;\n",
              "    }\n",
              "\n",
              "    .dataframe tbody tr th {\n",
              "        vertical-align: top;\n",
              "    }\n",
              "\n",
              "    .dataframe thead th {\n",
              "        text-align: right;\n",
              "    }\n",
              "</style>\n",
              "<table border=\"1\" class=\"dataframe\">\n",
              "  <thead>\n",
              "    <tr style=\"text-align: right;\">\n",
              "      <th></th>\n",
              "      <th>a</th>\n",
              "      <th>b</th>\n",
              "    </tr>\n",
              "  </thead>\n",
              "  <tbody>\n",
              "    <tr>\n",
              "      <th>0</th>\n",
              "      <td>-1.459890</td>\n",
              "      <td>0.616498</td>\n",
              "    </tr>\n",
              "    <tr>\n",
              "      <th>1</th>\n",
              "      <td>-1.434444</td>\n",
              "      <td>0.829703</td>\n",
              "    </tr>\n",
              "    <tr>\n",
              "      <th>2</th>\n",
              "      <td>0.073006</td>\n",
              "      <td>0.394386</td>\n",
              "    </tr>\n",
              "    <tr>\n",
              "      <th>3</th>\n",
              "      <td>0.798759</td>\n",
              "      <td>0.127169</td>\n",
              "    </tr>\n",
              "    <tr>\n",
              "      <th>4</th>\n",
              "      <td>0.856091</td>\n",
              "      <td>0.491910</td>\n",
              "    </tr>\n",
              "    <tr>\n",
              "      <th>5</th>\n",
              "      <td>0.799215</td>\n",
              "      <td>0.774637</td>\n",
              "    </tr>\n",
              "    <tr>\n",
              "      <th>6</th>\n",
              "      <td>0.282362</td>\n",
              "      <td>0.637314</td>\n",
              "    </tr>\n",
              "    <tr>\n",
              "      <th>7</th>\n",
              "      <td>1.290192</td>\n",
              "      <td>0.600809</td>\n",
              "    </tr>\n",
              "    <tr>\n",
              "      <th>8</th>\n",
              "      <td>0.664613</td>\n",
              "      <td>0.518853</td>\n",
              "    </tr>\n",
              "    <tr>\n",
              "      <th>9</th>\n",
              "      <td>-0.452245</td>\n",
              "      <td>0.222922</td>\n",
              "    </tr>\n",
              "    <tr>\n",
              "      <th>10</th>\n",
              "      <td>0.883031</td>\n",
              "      <td>0.664110</td>\n",
              "    </tr>\n",
              "    <tr>\n",
              "      <th>11</th>\n",
              "      <td>-1.164447</td>\n",
              "      <td>0.616113</td>\n",
              "    </tr>\n",
              "    <tr>\n",
              "      <th>12</th>\n",
              "      <td>0.458310</td>\n",
              "      <td>0.395732</td>\n",
              "    </tr>\n",
              "    <tr>\n",
              "      <th>13</th>\n",
              "      <td>-0.181643</td>\n",
              "      <td>0.613486</td>\n",
              "    </tr>\n",
              "    <tr>\n",
              "      <th>14</th>\n",
              "      <td>-1.433982</td>\n",
              "      <td>0.149201</td>\n",
              "    </tr>\n",
              "    <tr>\n",
              "      <th>15</th>\n",
              "      <td>1.390086</td>\n",
              "      <td>0.986432</td>\n",
              "    </tr>\n",
              "    <tr>\n",
              "      <th>16</th>\n",
              "      <td>-0.331206</td>\n",
              "      <td>0.898508</td>\n",
              "    </tr>\n",
              "    <tr>\n",
              "      <th>17</th>\n",
              "      <td>-0.736391</td>\n",
              "      <td>0.504919</td>\n",
              "    </tr>\n",
              "    <tr>\n",
              "      <th>18</th>\n",
              "      <td>-1.443147</td>\n",
              "      <td>0.013960</td>\n",
              "    </tr>\n",
              "    <tr>\n",
              "      <th>19</th>\n",
              "      <td>1.141727</td>\n",
              "      <td>0.734064</td>\n",
              "    </tr>\n",
              "  </tbody>\n",
              "</table>\n",
              "</div>"
            ],
            "text/plain": [
              "           a         b\n",
              "0  -1.459890  0.616498\n",
              "1  -1.434444  0.829703\n",
              "2   0.073006  0.394386\n",
              "3   0.798759  0.127169\n",
              "4   0.856091  0.491910\n",
              "5   0.799215  0.774637\n",
              "6   0.282362  0.637314\n",
              "7   1.290192  0.600809\n",
              "8   0.664613  0.518853\n",
              "9  -0.452245  0.222922\n",
              "10  0.883031  0.664110\n",
              "11 -1.164447  0.616113\n",
              "12  0.458310  0.395732\n",
              "13 -0.181643  0.613486\n",
              "14 -1.433982  0.149201\n",
              "15  1.390086  0.986432\n",
              "16 -0.331206  0.898508\n",
              "17 -0.736391  0.504919\n",
              "18 -1.443147  0.013960\n",
              "19  1.141727  0.734064"
            ]
          },
          "execution_count": 184,
          "metadata": {},
          "output_type": "execute_result"
        }
      ],
      "source": [
        "a_mean = pf1['a'].mean()\n",
        "a_stddev = pf1['a'].std()\n",
        "\n",
        "pf1['a'] = (pf1['a']-a1)/a2\n",
        "pf1"
      ]
    },
    {
      "cell_type": "code",
      "execution_count": null,
      "id": "f49c1e7b",
      "metadata": {
        "id": "f49c1e7b",
        "outputId": "5fff14b9-c3e3-42c6-9c0d-ad9b43e771e1"
      },
      "outputs": [
        {
          "data": {
            "text/html": [
              "<div>\n",
              "<style scoped>\n",
              "    .dataframe tbody tr th:only-of-type {\n",
              "        vertical-align: middle;\n",
              "    }\n",
              "\n",
              "    .dataframe tbody tr th {\n",
              "        vertical-align: top;\n",
              "    }\n",
              "\n",
              "    .dataframe thead th {\n",
              "        text-align: right;\n",
              "    }\n",
              "</style>\n",
              "<table border=\"1\" class=\"dataframe\">\n",
              "  <thead>\n",
              "    <tr style=\"text-align: right;\">\n",
              "      <th></th>\n",
              "      <th>a</th>\n",
              "      <th>b</th>\n",
              "    </tr>\n",
              "  </thead>\n",
              "  <tbody>\n",
              "    <tr>\n",
              "      <th>count</th>\n",
              "      <td>2.000000e+01</td>\n",
              "      <td>20.000000</td>\n",
              "    </tr>\n",
              "    <tr>\n",
              "      <th>mean</th>\n",
              "      <td>3.441691e-16</td>\n",
              "      <td>0.539536</td>\n",
              "    </tr>\n",
              "    <tr>\n",
              "      <th>std</th>\n",
              "      <td>1.000000e+00</td>\n",
              "      <td>0.261222</td>\n",
              "    </tr>\n",
              "    <tr>\n",
              "      <th>min</th>\n",
              "      <td>-1.459890e+00</td>\n",
              "      <td>0.013960</td>\n",
              "    </tr>\n",
              "    <tr>\n",
              "      <th>25%</th>\n",
              "      <td>-8.434050e-01</td>\n",
              "      <td>0.395396</td>\n",
              "    </tr>\n",
              "    <tr>\n",
              "      <th>50%</th>\n",
              "      <td>1.776837e-01</td>\n",
              "      <td>0.607147</td>\n",
              "    </tr>\n",
              "    <tr>\n",
              "      <th>75%</th>\n",
              "      <td>8.134340e-01</td>\n",
              "      <td>0.681599</td>\n",
              "    </tr>\n",
              "    <tr>\n",
              "      <th>max</th>\n",
              "      <td>1.390086e+00</td>\n",
              "      <td>0.986432</td>\n",
              "    </tr>\n",
              "  </tbody>\n",
              "</table>\n",
              "</div>"
            ],
            "text/plain": [
              "                  a          b\n",
              "count  2.000000e+01  20.000000\n",
              "mean   3.441691e-16   0.539536\n",
              "std    1.000000e+00   0.261222\n",
              "min   -1.459890e+00   0.013960\n",
              "25%   -8.434050e-01   0.395396\n",
              "50%    1.776837e-01   0.607147\n",
              "75%    8.134340e-01   0.681599\n",
              "max    1.390086e+00   0.986432"
            ]
          },
          "execution_count": 188,
          "metadata": {},
          "output_type": "execute_result"
        }
      ],
      "source": [
        "pf1.describe()"
      ]
    },
    {
      "cell_type": "markdown",
      "id": "79ae794d",
      "metadata": {
        "id": "79ae794d"
      },
      "source": [
        "## Z-score NOrmalization"
      ]
    },
    {
      "cell_type": "code",
      "execution_count": null,
      "id": "cc1d7c8b",
      "metadata": {
        "id": "cc1d7c8b",
        "outputId": "2cbf4e37-3d13-46e7-810f-a4465c34fc65"
      },
      "outputs": [
        {
          "data": {
            "text/html": [
              "<div>\n",
              "<style scoped>\n",
              "    .dataframe tbody tr th:only-of-type {\n",
              "        vertical-align: middle;\n",
              "    }\n",
              "\n",
              "    .dataframe tbody tr th {\n",
              "        vertical-align: top;\n",
              "    }\n",
              "\n",
              "    .dataframe thead th {\n",
              "        text-align: right;\n",
              "    }\n",
              "</style>\n",
              "<table border=\"1\" class=\"dataframe\">\n",
              "  <thead>\n",
              "    <tr style=\"text-align: right;\">\n",
              "      <th></th>\n",
              "      <th>a</th>\n",
              "      <th>b</th>\n",
              "    </tr>\n",
              "  </thead>\n",
              "  <tbody>\n",
              "    <tr>\n",
              "      <th>0</th>\n",
              "      <td>0.608290</td>\n",
              "      <td>0.397758</td>\n",
              "    </tr>\n",
              "    <tr>\n",
              "      <th>1</th>\n",
              "      <td>0.212419</td>\n",
              "      <td>0.830103</td>\n",
              "    </tr>\n",
              "    <tr>\n",
              "      <th>2</th>\n",
              "      <td>0.494494</td>\n",
              "      <td>0.197366</td>\n",
              "    </tr>\n",
              "    <tr>\n",
              "      <th>3</th>\n",
              "      <td>0.252029</td>\n",
              "      <td>0.642460</td>\n",
              "    </tr>\n",
              "    <tr>\n",
              "      <th>4</th>\n",
              "      <td>0.721862</td>\n",
              "      <td>0.649915</td>\n",
              "    </tr>\n",
              "    <tr>\n",
              "      <th>5</th>\n",
              "      <td>0.330513</td>\n",
              "      <td>0.081505</td>\n",
              "    </tr>\n",
              "    <tr>\n",
              "      <th>6</th>\n",
              "      <td>0.028230</td>\n",
              "      <td>0.050932</td>\n",
              "    </tr>\n",
              "    <tr>\n",
              "      <th>7</th>\n",
              "      <td>0.990535</td>\n",
              "      <td>0.199052</td>\n",
              "    </tr>\n",
              "    <tr>\n",
              "      <th>8</th>\n",
              "      <td>0.871976</td>\n",
              "      <td>0.810051</td>\n",
              "    </tr>\n",
              "    <tr>\n",
              "      <th>9</th>\n",
              "      <td>0.878173</td>\n",
              "      <td>0.686919</td>\n",
              "    </tr>\n",
              "    <tr>\n",
              "      <th>10</th>\n",
              "      <td>0.088213</td>\n",
              "      <td>0.798121</td>\n",
              "    </tr>\n",
              "    <tr>\n",
              "      <th>11</th>\n",
              "      <td>0.193318</td>\n",
              "      <td>0.638236</td>\n",
              "    </tr>\n",
              "    <tr>\n",
              "      <th>12</th>\n",
              "      <td>0.802027</td>\n",
              "      <td>0.715535</td>\n",
              "    </tr>\n",
              "    <tr>\n",
              "      <th>13</th>\n",
              "      <td>0.724469</td>\n",
              "      <td>0.328560</td>\n",
              "    </tr>\n",
              "    <tr>\n",
              "      <th>14</th>\n",
              "      <td>0.392005</td>\n",
              "      <td>0.663391</td>\n",
              "    </tr>\n",
              "    <tr>\n",
              "      <th>15</th>\n",
              "      <td>0.030547</td>\n",
              "      <td>0.373011</td>\n",
              "    </tr>\n",
              "    <tr>\n",
              "      <th>16</th>\n",
              "      <td>0.222158</td>\n",
              "      <td>0.813348</td>\n",
              "    </tr>\n",
              "    <tr>\n",
              "      <th>17</th>\n",
              "      <td>0.720974</td>\n",
              "      <td>0.410723</td>\n",
              "    </tr>\n",
              "    <tr>\n",
              "      <th>18</th>\n",
              "      <td>0.718499</td>\n",
              "      <td>0.495557</td>\n",
              "    </tr>\n",
              "    <tr>\n",
              "      <th>19</th>\n",
              "      <td>0.331041</td>\n",
              "      <td>0.069113</td>\n",
              "    </tr>\n",
              "  </tbody>\n",
              "</table>\n",
              "</div>"
            ],
            "text/plain": [
              "           a         b\n",
              "0   0.608290  0.397758\n",
              "1   0.212419  0.830103\n",
              "2   0.494494  0.197366\n",
              "3   0.252029  0.642460\n",
              "4   0.721862  0.649915\n",
              "5   0.330513  0.081505\n",
              "6   0.028230  0.050932\n",
              "7   0.990535  0.199052\n",
              "8   0.871976  0.810051\n",
              "9   0.878173  0.686919\n",
              "10  0.088213  0.798121\n",
              "11  0.193318  0.638236\n",
              "12  0.802027  0.715535\n",
              "13  0.724469  0.328560\n",
              "14  0.392005  0.663391\n",
              "15  0.030547  0.373011\n",
              "16  0.222158  0.813348\n",
              "17  0.720974  0.410723\n",
              "18  0.718499  0.495557\n",
              "19  0.331041  0.069113"
            ]
          },
          "execution_count": 189,
          "metadata": {},
          "output_type": "execute_result"
        }
      ],
      "source": [
        "pf2 = pd.DataFrame(np.random.rand(20,2), columns = ['a','b'])\n",
        "pf2"
      ]
    },
    {
      "cell_type": "code",
      "execution_count": null,
      "id": "fd140bde",
      "metadata": {
        "id": "fd140bde",
        "outputId": "6c058f09-00d9-45a6-f675-eab82d219581"
      },
      "outputs": [
        {
          "data": {
            "text/html": [
              "<div>\n",
              "<style scoped>\n",
              "    .dataframe tbody tr th:only-of-type {\n",
              "        vertical-align: middle;\n",
              "    }\n",
              "\n",
              "    .dataframe tbody tr th {\n",
              "        vertical-align: top;\n",
              "    }\n",
              "\n",
              "    .dataframe thead th {\n",
              "        text-align: right;\n",
              "    }\n",
              "</style>\n",
              "<table border=\"1\" class=\"dataframe\">\n",
              "  <thead>\n",
              "    <tr style=\"text-align: right;\">\n",
              "      <th></th>\n",
              "      <th>a</th>\n",
              "      <th>b</th>\n",
              "    </tr>\n",
              "  </thead>\n",
              "  <tbody>\n",
              "    <tr>\n",
              "      <th>0</th>\n",
              "      <td>0.413684</td>\n",
              "      <td>-0.353184</td>\n",
              "    </tr>\n",
              "    <tr>\n",
              "      <th>1</th>\n",
              "      <td>-0.868728</td>\n",
              "      <td>1.257122</td>\n",
              "    </tr>\n",
              "    <tr>\n",
              "      <th>2</th>\n",
              "      <td>0.045046</td>\n",
              "      <td>-1.099561</td>\n",
              "    </tr>\n",
              "    <tr>\n",
              "      <th>3</th>\n",
              "      <td>-0.740413</td>\n",
              "      <td>0.558232</td>\n",
              "    </tr>\n",
              "    <tr>\n",
              "      <th>4</th>\n",
              "      <td>0.781599</td>\n",
              "      <td>0.585997</td>\n",
              "    </tr>\n",
              "    <tr>\n",
              "      <th>5</th>\n",
              "      <td>-0.486166</td>\n",
              "      <td>-1.531094</td>\n",
              "    </tr>\n",
              "    <tr>\n",
              "      <th>6</th>\n",
              "      <td>-1.465402</td>\n",
              "      <td>-1.644965</td>\n",
              "    </tr>\n",
              "    <tr>\n",
              "      <th>7</th>\n",
              "      <td>1.651957</td>\n",
              "      <td>-1.093281</td>\n",
              "    </tr>\n",
              "    <tr>\n",
              "      <th>8</th>\n",
              "      <td>1.267887</td>\n",
              "      <td>1.182437</td>\n",
              "    </tr>\n",
              "    <tr>\n",
              "      <th>9</th>\n",
              "      <td>1.287965</td>\n",
              "      <td>0.723822</td>\n",
              "    </tr>\n",
              "    <tr>\n",
              "      <th>10</th>\n",
              "      <td>-1.271091</td>\n",
              "      <td>1.138002</td>\n",
              "    </tr>\n",
              "    <tr>\n",
              "      <th>11</th>\n",
              "      <td>-0.930606</td>\n",
              "      <td>0.542498</td>\n",
              "    </tr>\n",
              "    <tr>\n",
              "      <th>12</th>\n",
              "      <td>1.041291</td>\n",
              "      <td>0.830403</td>\n",
              "    </tr>\n",
              "    <tr>\n",
              "      <th>13</th>\n",
              "      <td>0.790044</td>\n",
              "      <td>-0.610915</td>\n",
              "    </tr>\n",
              "    <tr>\n",
              "      <th>14</th>\n",
              "      <td>-0.286962</td>\n",
              "      <td>0.636189</td>\n",
              "    </tr>\n",
              "    <tr>\n",
              "      <th>15</th>\n",
              "      <td>-1.457898</td>\n",
              "      <td>-0.445355</td>\n",
              "    </tr>\n",
              "    <tr>\n",
              "      <th>16</th>\n",
              "      <td>-0.837180</td>\n",
              "      <td>1.194718</td>\n",
              "    </tr>\n",
              "    <tr>\n",
              "      <th>17</th>\n",
              "      <td>0.778723</td>\n",
              "      <td>-0.304893</td>\n",
              "    </tr>\n",
              "    <tr>\n",
              "      <th>18</th>\n",
              "      <td>0.770704</td>\n",
              "      <td>0.011077</td>\n",
              "    </tr>\n",
              "    <tr>\n",
              "      <th>19</th>\n",
              "      <td>-0.484455</td>\n",
              "      <td>-1.577248</td>\n",
              "    </tr>\n",
              "  </tbody>\n",
              "</table>\n",
              "</div>"
            ],
            "text/plain": [
              "           a         b\n",
              "0   0.413684 -0.353184\n",
              "1  -0.868728  1.257122\n",
              "2   0.045046 -1.099561\n",
              "3  -0.740413  0.558232\n",
              "4   0.781599  0.585997\n",
              "5  -0.486166 -1.531094\n",
              "6  -1.465402 -1.644965\n",
              "7   1.651957 -1.093281\n",
              "8   1.267887  1.182437\n",
              "9   1.287965  0.723822\n",
              "10 -1.271091  1.138002\n",
              "11 -0.930606  0.542498\n",
              "12  1.041291  0.830403\n",
              "13  0.790044 -0.610915\n",
              "14 -0.286962  0.636189\n",
              "15 -1.457898 -0.445355\n",
              "16 -0.837180  1.194718\n",
              "17  0.778723 -0.304893\n",
              "18  0.770704  0.011077\n",
              "19 -0.484455 -1.577248"
            ]
          },
          "execution_count": 192,
          "metadata": {},
          "output_type": "execute_result"
        }
      ],
      "source": [
        "for i in pf2.columns:\n",
        "    a1 = pf2[i].mean()\n",
        "    a2 = pf2[i].std()\n",
        "    pf2[i] = (pf2[i] - a1)/a2\n",
        "    \n",
        "pf2"
      ]
    },
    {
      "cell_type": "code",
      "execution_count": null,
      "id": "129add18",
      "metadata": {
        "id": "129add18",
        "outputId": "cc6e86c7-0de6-4e5a-fe6f-6aadf5de3e31"
      },
      "outputs": [
        {
          "data": {
            "text/plain": [
              "<AxesSubplot:>"
            ]
          },
          "execution_count": 193,
          "metadata": {},
          "output_type": "execute_result"
        },
        {
          "data": {
            "image/png": "[encoded data removed]",
            "text/plain": [
              "<Figure size 432x288 with 1 Axes>"
            ]
          },
          "metadata": {
            "needs_background": "light"
          },
          "output_type": "display_data"
        }
      ],
      "source": [
        "pf2.plot.box()"
      ]
    },
    {
      "cell_type": "markdown",
      "id": "81199840",
      "metadata": {
        "id": "81199840"
      },
      "source": [
        "## Outlier detection using z-score normalization"
      ]
    },
    {
      "cell_type": "code",
      "execution_count": null,
      "id": "356934fc",
      "metadata": {
        "id": "356934fc",
        "outputId": "4d092280-d91b-4875-f8a8-69cbc4c74730"
      },
      "outputs": [
        {
          "name": "stdout",
          "output_type": "stream",
          "text": [
            "outlier values in column:  a\n",
            "          a         b\n",
            "7  1.651957 -1.093281\n",
            "\n",
            "\n",
            "outlier values in column:  b\n",
            "           a         b\n",
            "5  -0.486166 -1.531094\n",
            "6  -1.465402 -1.644965\n",
            "19 -0.484455 -1.577248\n",
            "\n",
            "\n"
          ]
        }
      ],
      "source": [
        "for i in pf2.columns:\n",
        "    print('outlier values in column: ',i)\n",
        "    print(pf2[(pf2[i] > 1.5*pf2[i].std()) | (pf2[i] < (-1.5)*pf2[i].std())])\n",
        "    print('\\n')"
      ]
    },
    {
      "cell_type": "markdown",
      "id": "e99325cd",
      "metadata": {
        "id": "e99325cd"
      },
      "source": [
        "## Standardization via minMax scale"
      ]
    },
    {
      "cell_type": "code",
      "execution_count": null,
      "id": "f5adf804",
      "metadata": {
        "id": "f5adf804",
        "outputId": "33a4b3a3-9c7b-47b7-8009-9d4cf1548939"
      },
      "outputs": [
        {
          "data": {
            "text/html": [
              "<div>\n",
              "<style scoped>\n",
              "    .dataframe tbody tr th:only-of-type {\n",
              "        vertical-align: middle;\n",
              "    }\n",
              "\n",
              "    .dataframe tbody tr th {\n",
              "        vertical-align: top;\n",
              "    }\n",
              "\n",
              "    .dataframe thead th {\n",
              "        text-align: right;\n",
              "    }\n",
              "</style>\n",
              "<table border=\"1\" class=\"dataframe\">\n",
              "  <thead>\n",
              "    <tr style=\"text-align: right;\">\n",
              "      <th></th>\n",
              "      <th>a</th>\n",
              "      <th>b</th>\n",
              "    </tr>\n",
              "  </thead>\n",
              "  <tbody>\n",
              "    <tr>\n",
              "      <th>0</th>\n",
              "      <td>0.851987</td>\n",
              "      <td>0.712273</td>\n",
              "    </tr>\n",
              "    <tr>\n",
              "      <th>1</th>\n",
              "      <td>0.899670</td>\n",
              "      <td>0.882732</td>\n",
              "    </tr>\n",
              "    <tr>\n",
              "      <th>2</th>\n",
              "      <td>0.043157</td>\n",
              "      <td>0.225255</td>\n",
              "    </tr>\n",
              "    <tr>\n",
              "      <th>3</th>\n",
              "      <td>0.439383</td>\n",
              "      <td>0.882234</td>\n",
              "    </tr>\n",
              "    <tr>\n",
              "      <th>4</th>\n",
              "      <td>0.614530</td>\n",
              "      <td>0.939650</td>\n",
              "    </tr>\n",
              "    <tr>\n",
              "      <th>5</th>\n",
              "      <td>0.354723</td>\n",
              "      <td>0.299648</td>\n",
              "    </tr>\n",
              "    <tr>\n",
              "      <th>6</th>\n",
              "      <td>0.020698</td>\n",
              "      <td>0.844308</td>\n",
              "    </tr>\n",
              "    <tr>\n",
              "      <th>7</th>\n",
              "      <td>0.251223</td>\n",
              "      <td>0.177105</td>\n",
              "    </tr>\n",
              "    <tr>\n",
              "      <th>8</th>\n",
              "      <td>0.047780</td>\n",
              "      <td>0.829689</td>\n",
              "    </tr>\n",
              "    <tr>\n",
              "      <th>9</th>\n",
              "      <td>0.557518</td>\n",
              "      <td>0.084447</td>\n",
              "    </tr>\n",
              "    <tr>\n",
              "      <th>10</th>\n",
              "      <td>0.060816</td>\n",
              "      <td>0.781645</td>\n",
              "    </tr>\n",
              "    <tr>\n",
              "      <th>11</th>\n",
              "      <td>0.003051</td>\n",
              "      <td>0.788748</td>\n",
              "    </tr>\n",
              "    <tr>\n",
              "      <th>12</th>\n",
              "      <td>0.939344</td>\n",
              "      <td>0.050435</td>\n",
              "    </tr>\n",
              "    <tr>\n",
              "      <th>13</th>\n",
              "      <td>0.474959</td>\n",
              "      <td>0.753310</td>\n",
              "    </tr>\n",
              "    <tr>\n",
              "      <th>14</th>\n",
              "      <td>0.183395</td>\n",
              "      <td>0.373003</td>\n",
              "    </tr>\n",
              "    <tr>\n",
              "      <th>15</th>\n",
              "      <td>0.472141</td>\n",
              "      <td>0.587871</td>\n",
              "    </tr>\n",
              "    <tr>\n",
              "      <th>16</th>\n",
              "      <td>0.815851</td>\n",
              "      <td>0.795326</td>\n",
              "    </tr>\n",
              "    <tr>\n",
              "      <th>17</th>\n",
              "      <td>0.183715</td>\n",
              "      <td>0.506807</td>\n",
              "    </tr>\n",
              "    <tr>\n",
              "      <th>18</th>\n",
              "      <td>0.326391</td>\n",
              "      <td>0.768226</td>\n",
              "    </tr>\n",
              "    <tr>\n",
              "      <th>19</th>\n",
              "      <td>0.010462</td>\n",
              "      <td>0.364686</td>\n",
              "    </tr>\n",
              "  </tbody>\n",
              "</table>\n",
              "</div>"
            ],
            "text/plain": [
              "           a         b\n",
              "0   0.851987  0.712273\n",
              "1   0.899670  0.882732\n",
              "2   0.043157  0.225255\n",
              "3   0.439383  0.882234\n",
              "4   0.614530  0.939650\n",
              "5   0.354723  0.299648\n",
              "6   0.020698  0.844308\n",
              "7   0.251223  0.177105\n",
              "8   0.047780  0.829689\n",
              "9   0.557518  0.084447\n",
              "10  0.060816  0.781645\n",
              "11  0.003051  0.788748\n",
              "12  0.939344  0.050435\n",
              "13  0.474959  0.753310\n",
              "14  0.183395  0.373003\n",
              "15  0.472141  0.587871\n",
              "16  0.815851  0.795326\n",
              "17  0.183715  0.506807\n",
              "18  0.326391  0.768226\n",
              "19  0.010462  0.364686"
            ]
          },
          "execution_count": 217,
          "metadata": {},
          "output_type": "execute_result"
        }
      ],
      "source": [
        "pf3 = pd.DataFrame(np.random.rand(20,2), columns = ['a','b'])\n",
        "pf3"
      ]
    },
    {
      "cell_type": "code",
      "execution_count": null,
      "id": "e1a50482",
      "metadata": {
        "id": "e1a50482",
        "outputId": "a5b6f684-0571-40a5-d88a-3841040d284f"
      },
      "outputs": [
        {
          "data": {
            "text/html": [
              "<div>\n",
              "<style scoped>\n",
              "    .dataframe tbody tr th:only-of-type {\n",
              "        vertical-align: middle;\n",
              "    }\n",
              "\n",
              "    .dataframe tbody tr th {\n",
              "        vertical-align: top;\n",
              "    }\n",
              "\n",
              "    .dataframe thead th {\n",
              "        text-align: right;\n",
              "    }\n",
              "</style>\n",
              "<table border=\"1\" class=\"dataframe\">\n",
              "  <thead>\n",
              "    <tr style=\"text-align: right;\">\n",
              "      <th></th>\n",
              "      <th>a</th>\n",
              "      <th>b</th>\n",
              "    </tr>\n",
              "  </thead>\n",
              "  <tbody>\n",
              "    <tr>\n",
              "      <th>0</th>\n",
              "      <td>0.906699</td>\n",
              "      <td>0.744295</td>\n",
              "    </tr>\n",
              "    <tr>\n",
              "      <th>1</th>\n",
              "      <td>0.957627</td>\n",
              "      <td>0.935991</td>\n",
              "    </tr>\n",
              "    <tr>\n",
              "      <th>2</th>\n",
              "      <td>0.042835</td>\n",
              "      <td>0.196601</td>\n",
              "    </tr>\n",
              "    <tr>\n",
              "      <th>3</th>\n",
              "      <td>0.466021</td>\n",
              "      <td>0.935431</td>\n",
              "    </tr>\n",
              "    <tr>\n",
              "      <th>4</th>\n",
              "      <td>0.653085</td>\n",
              "      <td>1.000000</td>\n",
              "    </tr>\n",
              "    <tr>\n",
              "      <th>5</th>\n",
              "      <td>0.375601</td>\n",
              "      <td>0.280261</td>\n",
              "    </tr>\n",
              "    <tr>\n",
              "      <th>6</th>\n",
              "      <td>0.018848</td>\n",
              "      <td>0.892780</td>\n",
              "    </tr>\n",
              "    <tr>\n",
              "      <th>7</th>\n",
              "      <td>0.265058</td>\n",
              "      <td>0.142451</td>\n",
              "    </tr>\n",
              "    <tr>\n",
              "      <th>8</th>\n",
              "      <td>0.047772</td>\n",
              "      <td>0.876339</td>\n",
              "    </tr>\n",
              "    <tr>\n",
              "      <th>9</th>\n",
              "      <td>0.592194</td>\n",
              "      <td>0.038250</td>\n",
              "    </tr>\n",
              "    <tr>\n",
              "      <th>10</th>\n",
              "      <td>0.061695</td>\n",
              "      <td>0.822310</td>\n",
              "    </tr>\n",
              "    <tr>\n",
              "      <th>11</th>\n",
              "      <td>0.000000</td>\n",
              "      <td>0.830298</td>\n",
              "    </tr>\n",
              "    <tr>\n",
              "      <th>12</th>\n",
              "      <td>1.000000</td>\n",
              "      <td>0.000000</td>\n",
              "    </tr>\n",
              "    <tr>\n",
              "      <th>13</th>\n",
              "      <td>0.504018</td>\n",
              "      <td>0.790445</td>\n",
              "    </tr>\n",
              "    <tr>\n",
              "      <th>14</th>\n",
              "      <td>0.192615</td>\n",
              "      <td>0.362756</td>\n",
              "    </tr>\n",
              "    <tr>\n",
              "      <th>15</th>\n",
              "      <td>0.501008</td>\n",
              "      <td>0.604394</td>\n",
              "    </tr>\n",
              "    <tr>\n",
              "      <th>16</th>\n",
              "      <td>0.868105</td>\n",
              "      <td>0.837696</td>\n",
              "    </tr>\n",
              "    <tr>\n",
              "      <th>17</th>\n",
              "      <td>0.192957</td>\n",
              "      <td>0.513230</td>\n",
              "    </tr>\n",
              "    <tr>\n",
              "      <th>18</th>\n",
              "      <td>0.345340</td>\n",
              "      <td>0.807219</td>\n",
              "    </tr>\n",
              "    <tr>\n",
              "      <th>19</th>\n",
              "      <td>0.007915</td>\n",
              "      <td>0.353403</td>\n",
              "    </tr>\n",
              "  </tbody>\n",
              "</table>\n",
              "</div>"
            ],
            "text/plain": [
              "           a         b\n",
              "0   0.906699  0.744295\n",
              "1   0.957627  0.935991\n",
              "2   0.042835  0.196601\n",
              "3   0.466021  0.935431\n",
              "4   0.653085  1.000000\n",
              "5   0.375601  0.280261\n",
              "6   0.018848  0.892780\n",
              "7   0.265058  0.142451\n",
              "8   0.047772  0.876339\n",
              "9   0.592194  0.038250\n",
              "10  0.061695  0.822310\n",
              "11  0.000000  0.830298\n",
              "12  1.000000  0.000000\n",
              "13  0.504018  0.790445\n",
              "14  0.192615  0.362756\n",
              "15  0.501008  0.604394\n",
              "16  0.868105  0.837696\n",
              "17  0.192957  0.513230\n",
              "18  0.345340  0.807219\n",
              "19  0.007915  0.353403"
            ]
          },
          "execution_count": 219,
          "metadata": {},
          "output_type": "execute_result"
        }
      ],
      "source": [
        "for i in pf3.columns:\n",
        "    pf3[i] = (pf3[i] - pf3[i].min())/(pf3[i].max() - pf3[i].min())\n",
        "pf3"
      ]
    },
    {
      "cell_type": "markdown",
      "id": "58dae19d",
      "metadata": {
        "id": "58dae19d"
      },
      "source": [
        "## Discretizing class attribute in Iris Dataset"
      ]
    },
    {
      "cell_type": "markdown",
      "id": "47a30bb2",
      "metadata": {
        "id": "47a30bb2"
      },
      "source": [
        "### 1. using equal width"
      ]
    },
    {
      "cell_type": "code",
      "execution_count": null,
      "id": "bdc67b88",
      "metadata": {
        "id": "bdc67b88",
        "outputId": "8196831b-3e79-4ead-c3dc-a6dcabd60bbd"
      },
      "outputs": [
        {
          "data": {
            "image/png": "[encoded data removed]",
            "text/plain": [
              "<Figure size 432x288 with 1 Axes>"
            ]
          },
          "metadata": {
            "needs_background": "light"
          },
          "output_type": "display_data"
        }
      ],
      "source": [
        "freq, bins, patches = plt.hist(df[2])\n",
        "plt.show()"
      ]
    },
    {
      "cell_type": "code",
      "execution_count": null,
      "id": "22428e4e",
      "metadata": {
        "id": "22428e4e",
        "outputId": "664642fa-1e55-40f3-d93d-846bec0427a1"
      },
      "outputs": [
        {
          "name": "stdout",
          "output_type": "stream",
          "text": [
            "[ 1.   1.9  2.8  3.7  4.6  5.5  6.4  7.3  8.2  9.1 10. ]\n",
            "[42.  2.  6. 28. 32. 21.  5.  0.  0.  1.]\n"
          ]
        }
      ],
      "source": [
        "# display bin boundaries, frequency per bin\n",
        "print(bins)\n",
        "print(freq)"
      ]
    },
    {
      "cell_type": "markdown",
      "id": "0d587bc2",
      "metadata": {
        "id": "0d587bc2"
      },
      "source": [
        "### 2. Equal-depth"
      ]
    },
    {
      "cell_type": "code",
      "execution_count": null,
      "id": "d1fe9123",
      "metadata": {
        "id": "d1fe9123",
        "outputId": "37d1ae12-f7cf-4442-a8fd-a5d2991ff909"
      },
      "outputs": [
        {
          "data": {
            "image/png": "[encoded data removed]",
            "text/plain": [
              "<Figure size 432x288 with 1 Axes>"
            ]
          },
          "metadata": {
            "needs_background": "light"
          },
          "output_type": "display_data"
        },
        {
          "name": "stdout",
          "output_type": "stream",
          "text": [
            "bins:  [0.1        0.2        1.         1.3        1.6        2.01666667\n",
            " 2.5       ]\n",
            "frequeny_pere_bin:  [ 5. 40. 14. 31. 25. 22.]\n"
          ]
        }
      ],
      "source": [
        "# creating header function\n",
        "def equal_depth(x, nbin):\n",
        "    len_bin = len(x)\n",
        "    return np.interp(np.linspace(0,len_bin,nbin+1),\n",
        "                    np.arange(len_bin),\n",
        "                    np.sort(x))\n",
        "n, bins,patches = plt.hist(df[3], equal_depth(df[3],6))\n",
        "plt.show()\n",
        "\n",
        "print('bins: ',bins)\n",
        "print('frequeny_pere_bin: ', n)"
      ]
    },
    {
      "cell_type": "markdown",
      "id": "c97cef59",
      "metadata": {
        "id": "c97cef59"
      },
      "source": [
        "## Correlation among attributes"
      ]
    },
    {
      "cell_type": "code",
      "execution_count": null,
      "id": "bf8b31bc",
      "metadata": {
        "id": "bf8b31bc",
        "outputId": "1a77d999-1bb3-4055-88bb-ffcf930fd556"
      },
      "outputs": [
        {
          "data": {
            "text/html": [
              "<div>\n",
              "<style scoped>\n",
              "    .dataframe tbody tr th:only-of-type {\n",
              "        vertical-align: middle;\n",
              "    }\n",
              "\n",
              "    .dataframe tbody tr th {\n",
              "        vertical-align: top;\n",
              "    }\n",
              "\n",
              "    .dataframe thead th {\n",
              "        text-align: right;\n",
              "    }\n",
              "</style>\n",
              "<table border=\"1\" class=\"dataframe\">\n",
              "  <thead>\n",
              "    <tr style=\"text-align: right;\">\n",
              "      <th></th>\n",
              "      <th>0</th>\n",
              "      <th>1</th>\n",
              "      <th>2</th>\n",
              "      <th>3</th>\n",
              "    </tr>\n",
              "  </thead>\n",
              "  <tbody>\n",
              "    <tr>\n",
              "      <th>0</th>\n",
              "      <td>1.000000</td>\n",
              "      <td>-0.042274</td>\n",
              "      <td>0.508460</td>\n",
              "      <td>0.510402</td>\n",
              "    </tr>\n",
              "    <tr>\n",
              "      <th>1</th>\n",
              "      <td>-0.042274</td>\n",
              "      <td>1.000000</td>\n",
              "      <td>-0.129261</td>\n",
              "      <td>-0.102056</td>\n",
              "    </tr>\n",
              "    <tr>\n",
              "      <th>2</th>\n",
              "      <td>0.508460</td>\n",
              "      <td>-0.129261</td>\n",
              "      <td>1.000000</td>\n",
              "      <td>0.881233</td>\n",
              "    </tr>\n",
              "    <tr>\n",
              "      <th>3</th>\n",
              "      <td>0.510402</td>\n",
              "      <td>-0.102056</td>\n",
              "      <td>0.881233</td>\n",
              "      <td>1.000000</td>\n",
              "    </tr>\n",
              "  </tbody>\n",
              "</table>\n",
              "</div>"
            ],
            "text/plain": [
              "          0         1         2         3\n",
              "0  1.000000 -0.042274  0.508460  0.510402\n",
              "1 -0.042274  1.000000 -0.129261 -0.102056\n",
              "2  0.508460 -0.129261  1.000000  0.881233\n",
              "3  0.510402 -0.102056  0.881233  1.000000"
            ]
          },
          "execution_count": 243,
          "metadata": {},
          "output_type": "execute_result"
        }
      ],
      "source": [
        "df.corr()"
      ]
    }
  ],
  "metadata": {
    "kernelspec": {
      "display_name": "Python 3 (ipykernel)",
      "language": "python",
      "name": "python3"
    },
    "language_info": {
      "codemirror_mode": {
        "name": "ipython",
        "version": 3
      },
      "file_extension": ".py",
      "mimetype": "text/x-python",
      "name": "python",
      "nbconvert_exporter": "python",
      "pygments_lexer": "ipython3",
      "version": "3.9.7"
    },
    "colab": {
      "provenance": [],
      "collapsed_sections": [
        "131b6ae6",
        "67a27941",
        "b2879335",
        "bdea4bc2",
        "90d8f843",
        "79ae794d",
        "81199840",
        "e99325cd",
        "58dae19d",
        "47a30bb2",
        "0d587bc2",
        "c97cef59"
      ]
    }
  },
  "nbformat": 4,
  "nbformat_minor": 5
}